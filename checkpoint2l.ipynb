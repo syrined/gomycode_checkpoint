{
  "nbformat": 4,
  "nbformat_minor": 0,
  "metadata": {
    "colab": {
      "name": "checkpoint2.ipynb",
      "provenance": [],
      "collapsed_sections": [],
      "authorship_tag": "ABX9TyPQRI4n+pne+jYKFTKGZROi",
      "include_colab_link": true
    },
    "kernelspec": {
      "name": "python3",
      "display_name": "Python 3"
    },
    "language_info": {
      "name": "python"
    }
  },
  "cells": [
    {
      "cell_type": "markdown",
      "metadata": {
        "id": "view-in-github",
        "colab_type": "text"
      },
      "source": [
        "<a href=\"https://colab.research.google.com/github/syrined/gomycode_checkpoint/blob/main/checkpoint2l.ipynb\" target=\"_parent\"><img src=\"https://colab.research.google.com/assets/colab-badge.svg\" alt=\"Open In Colab\"/></a>"
      ]
    },
    {
      "cell_type": "code",
      "metadata": {
        "colab": {
          "base_uri": "https://localhost:8080/"
        },
        "id": "wkSTS1YxC8fW",
        "outputId": "1974a13c-66ca-46ab-ab49-665690fb05eb"
      },
      "source": [
        "#ex1\n",
        "l=[]\n",
        "for i in range(2000,3201):\n",
        "  if (i%7==0) and (i%5!=0):\n",
        "    l.append(i)\n",
        "print(l)"
      ],
      "execution_count": null,
      "outputs": [
        {
          "output_type": "stream",
          "text": [
            "[2002, 2009, 2016, 2023, 2037, 2044, 2051, 2058, 2072, 2079, 2086, 2093, 2107, 2114, 2121, 2128, 2142, 2149, 2156, 2163, 2177, 2184, 2191, 2198, 2212, 2219, 2226, 2233, 2247, 2254, 2261, 2268, 2282, 2289, 2296, 2303, 2317, 2324, 2331, 2338, 2352, 2359, 2366, 2373, 2387, 2394, 2401, 2408, 2422, 2429, 2436, 2443, 2457, 2464, 2471, 2478, 2492, 2499, 2506, 2513, 2527, 2534, 2541, 2548, 2562, 2569, 2576, 2583, 2597, 2604, 2611, 2618, 2632, 2639, 2646, 2653, 2667, 2674, 2681, 2688, 2702, 2709, 2716, 2723, 2737, 2744, 2751, 2758, 2772, 2779, 2786, 2793, 2807, 2814, 2821, 2828, 2842, 2849, 2856, 2863, 2877, 2884, 2891, 2898, 2912, 2919, 2926, 2933, 2947, 2954, 2961, 2968, 2982, 2989, 2996, 3003, 3017, 3024, 3031, 3038, 3052, 3059, 3066, 3073, 3087, 3094, 3101, 3108, 3122, 3129, 3136, 3143, 3157, 3164, 3171, 3178, 3192, 3199]\n"
          ],
          "name": "stdout"
        }
      ]
    },
    {
      "cell_type": "code",
      "metadata": {
        "colab": {
          "base_uri": "https://localhost:8080/"
        },
        "id": "2SFP_I-eDiUH",
        "outputId": "6a99fa8c-a8bf-4a84-b92b-03a8b8c07a56"
      },
      "source": [
        "#ex2\n",
        "def fact(x):\n",
        " if (x==1) or (x==0):\n",
        "   return 1\n",
        " else :\n",
        "  x=x*fact(x-1)\n",
        "  return x\n",
        "print(fact(100))\n",
        "  \n",
        "  \n"
      ],
      "execution_count": null,
      "outputs": [
        {
          "output_type": "stream",
          "text": [
            "93326215443944152681699238856266700490715968264381621468592963895217599993229915608941463976156518286253697920827223758251185210916864000000000000000000000000\n"
          ],
          "name": "stdout"
        }
      ]
    },
    {
      "cell_type": "code",
      "metadata": {
        "colab": {
          "base_uri": "https://localhost:8080/"
        },
        "id": "2qZvnyXJH25m",
        "outputId": "a724e974-9357-46a8-f367-f32a713b137b"
      },
      "source": [
        "#ex3\n",
        "def dic(n):\n",
        "  mydict={}\n",
        "  i=1\n",
        "  while i<=8:\n",
        "    mydict[i]=i*i\n",
        "    i=i+1\n",
        "  return mydict\n",
        "print( dic(8))"
      ],
      "execution_count": null,
      "outputs": [
        {
          "output_type": "stream",
          "text": [
            "{1: 1, 2: 4, 3: 9, 4: 16, 5: 25, 6: 36, 7: 49, 8: 64}\n"
          ],
          "name": "stdout"
        }
      ]
    },
    {
      "cell_type": "code",
      "metadata": {
        "id": "p0zy9idDE6L4"
      },
      "source": [
        "#ex4\n",
        "def missing(ch,x):\n",
        "  for i in range(0,len(ch)):\n",
        "    if i==x:\n",
        "      new=ch.replace(ch[i],\"\")\n",
        "  return new"
      ],
      "execution_count": null,
      "outputs": []
    },
    {
      "cell_type": "code",
      "metadata": {
        "colab": {
          "base_uri": "https://localhost:8080/"
        },
        "id": "0ToZ7YEoO9ov",
        "outputId": "d8a35460-43a7-4c5c-d86a-73fd1e2d1d7e"
      },
      "source": [
        "print(missing(\"kitten\",2))"
      ],
      "execution_count": null,
      "outputs": [
        {
          "output_type": "stream",
          "text": [
            "kien\n"
          ],
          "name": "stdout"
        }
      ]
    },
    {
      "cell_type": "code",
      "metadata": {
        "colab": {
          "base_uri": "https://localhost:8080/"
        },
        "id": "c3bBS1RNPGUw",
        "outputId": "88c629b7-05a1-4796-b51a-64df8888b280"
      },
      "source": [
        "ch=\"kitten\"\n",
        "s=ch.replace(\"k\",\"*\")\n",
        "print(s)"
      ],
      "execution_count": null,
      "outputs": [
        {
          "output_type": "stream",
          "text": [
            "*itten\n"
          ],
          "name": "stdout"
        }
      ]
    },
    {
      "cell_type": "code",
      "metadata": {
        "colab": {
          "base_uri": "https://localhost:8080/"
        },
        "id": "4r7DRhCLQIMK",
        "outputId": "53aacf49-033f-479b-e94e-d92530857872"
      },
      "source": [
        "#ex5\n",
        "import numpy as np \n",
        "def convert(arr):\n",
        "  print(\"original array elements\",arr)\n",
        "  return arr.tolist()\n",
        "print(convert(np.array([[1,2],[3,4]])))\n",
        "\n"
      ],
      "execution_count": null,
      "outputs": [
        {
          "output_type": "stream",
          "text": [
            "original array elements [[1 2]\n",
            " [3 4]]\n",
            "[[1, 2], [3, 4]]\n"
          ],
          "name": "stdout"
        }
      ]
    },
    {
      "cell_type": "code",
      "metadata": {
        "colab": {
          "base_uri": "https://localhost:8080/"
        },
        "id": "kCS19TndS7rG",
        "outputId": "13b5c26f-a1cf-42e5-bb8c-1eac631f76cf"
      },
      "source": [
        "#ex6\n",
        "import numpy as np\n",
        "def  covariance(arr1,arr2):\n",
        "  print(\"Original array1\",arr1)\n",
        "  print(\"Original array2\",arr2)\n",
        "  return np.cov(arr1,arr2)\n",
        "print(   covariance(np.array([0,1,2]),np.array([2,1,0]))      )"
      ],
      "execution_count": null,
      "outputs": [
        {
          "output_type": "stream",
          "text": [
            "Original array1 [0 1 2]\n",
            "Original array2 [2 1 0]\n",
            "[[ 1. -1.]\n",
            " [-1.  1.]]\n"
          ],
          "name": "stdout"
        }
      ]
    },
    {
      "cell_type": "code",
      "metadata": {
        "colab": {
          "base_uri": "https://localhost:8080/"
        },
        "id": "3kEMcvMPWVlx",
        "outputId": "87215a6f-82c1-4bf0-edde-aef7c854dd88"
      },
      "source": [
        "#ex7\n",
        "import pandas as pd  \n",
        "import math \n",
        "d=input()\n",
        "def fonc(d):\n",
        "  C=50\n",
        "  H=30\n",
        "  l=d.split(',')\n",
        "  l1=[]\n",
        "  for i in l:\n",
        "    Q= math.sqrt((2 * C *float(i)/H))\n",
        "    l1.append(round(Q))\n",
        "    d1 = ', '.join([str(elem) for elem in l1])\n",
        "  \n",
        "  return d1\n",
        "print(fonc(d))\n",
        "\n",
        "  "
      ],
      "execution_count": 38,
      "outputs": [
        {
          "output_type": "stream",
          "text": [
            "100,150,180\n",
            "18, 22, 24\n"
          ],
          "name": "stdout"
        }
      ]
    },
    {
      "cell_type": "code",
      "metadata": {
        "id": "ERu0LzaY9Xqb"
      },
      "source": [
        ""
      ],
      "execution_count": null,
      "outputs": []
    }
  ]
}